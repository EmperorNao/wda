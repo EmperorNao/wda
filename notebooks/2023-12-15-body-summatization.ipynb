{
 "cells": [
  {
   "cell_type": "code",
   "execution_count": 1,
   "metadata": {},
   "outputs": [],
   "source": [
    "# fetch url + title\n",
    "# https://linuxize.com/post/how-to-extract-unzip-tar-gz-file/\n",
    "from bs4 import BeautifulSoup\n",
    "import codecs"
   ]
  },
  {
   "cell_type": "code",
   "execution_count": 7,
   "metadata": {},
   "outputs": [],
   "source": [
    "import numpy as np\n",
    "import pandas as pd\n",
    "import pathlib\n",
    "\n",
    "\n",
    "def preprocess_soup(soup: BeautifulSoup):\n",
    "    for node in soup.find_all([\"script\", \"style\", \"head\", \"a\", \"link\", \"img\"]):\n",
    "        node.decompose()\n",
    "\n",
    "\n",
    "def extract_description(soup: BeautifulSoup) -> str:\n",
    "    desc = soup.find(\"meta\", {\"name\": \"description\"})\n",
    "    return desc.attrs.get(\"content\", \"\") if desc else np.nan\n",
    "\n",
    "\n",
    "def extract_title(soup: BeautifulSoup) -> str:\n",
    "    title = soup.find(\"title\")\n",
    "    header = soup.find(\"h1\")\n",
    "\n",
    "    if title and header:\n",
    "        return f\"{title.text} {header.text}\"\n",
    "\n",
    "    if title:\n",
    "        return title.text\n",
    "\n",
    "    if header:\n",
    "        return header.text\n",
    "\n",
    "    return np.nan\n",
    "\n",
    "\n",
    "def extract_keywords(soup: BeautifulSoup) -> str:\n",
    "    title = soup.find(\"meta\", {\"name\": \"keywords\"})\n",
    "    return title.attrs.get(\"content\", \"\") if title else np.nan\n",
    "\n",
    "\n",
    "def extract_body_chunk(soup: BeautifulSoup, q: float = 0.999) -> str:\n",
    "    text_chunks = [t.text.strip() for t in soup.find_all(string=True)]\n",
    "    if not text_chunks:\n",
    "        return np.nan\n",
    "\n",
    "    text_sizes = np.asarray([len(x) for x in text_chunks])\n",
    "    cutoff = np.quantile(text_sizes, q=q)\n",
    "    return \"\".join(filter(lambda x: len(x) > cutoff, text_chunks))\n",
    "\n",
    "\n",
    "def extract_html_features(p: pathlib.Path):\n",
    "    with codecs.open(p, \"r\", \"utf-8\") as f:\n",
    "        url = f.readline().strip()\n",
    "        soup = BeautifulSoup(f, \"lxml\")\n",
    "\n",
    "    preprocess_soup(soup)\n",
    "\n",
    "    return dict(\n",
    "        doc_id=int(p.stem),\n",
    "        title=extract_title(soup),\n",
    "        url=url,\n",
    "        description=extract_description(soup),\n",
    "        keywords=extract_keywords(soup),\n",
    "        body=extract_body_chunk(soup),\n",
    "    )\n",
    "\n",
    "\n",
    "def make_soup(p: pathlib.Path):\n",
    "    with codecs.open(p, \"r\", \"utf-8\") as f:\n",
    "        url = f.readline().strip()\n",
    "        soup = BeautifulSoup(f, \"lxml\")\n",
    "        preprocess_soup(soup)\n",
    "        return soup, url"
   ]
  },
  {
   "cell_type": "code",
   "execution_count": 8,
   "metadata": {},
   "outputs": [],
   "source": [
    "CONTENT_PATH = \"../tmp/content\"\n",
    "html_documents = [f for f in pathlib.Path(CONTENT_PATH).resolve().iterdir()]\n",
    "html_documents.sort()\n",
    "\n",
    "html_document_names = [f.stem for f in html_documents]"
   ]
  },
  {
   "cell_type": "code",
   "execution_count": 9,
   "metadata": {},
   "outputs": [
    {
     "name": "stdout",
     "output_type": "stream",
     "text": [
      "/Users/n.teterin/projects/work/notebooks-oneshot/tmp/content/10628.dat\n"
     ]
    }
   ],
   "source": [
    "sample = html_documents[700]\n",
    "print(sample)\n",
    "soup, url = make_soup(sample)"
   ]
  },
  {
   "cell_type": "code",
   "execution_count": 10,
   "metadata": {},
   "outputs": [
    {
     "data": {
      "text/plain": [
       "[]"
      ]
     },
     "execution_count": 10,
     "metadata": {},
     "output_type": "execute_result"
    }
   ],
   "source": [
    "soup.find_all(\"meta\")"
   ]
  },
  {
   "cell_type": "code",
   "execution_count": 11,
   "metadata": {},
   "outputs": [
    {
     "data": {
      "text/plain": [
       "{'doc_id': 10628,\n",
       " 'title': 'Как правильно написать реферат',\n",
       " 'url': 'vocalmuzshcola.ru/muzykalnaya-shkola/stranica-prepodavatelya/kak-pravilno-napisat-referat',\n",
       " 'description': nan,\n",
       " 'keywords': nan,\n",
       " 'body': 'Существуют определенные требования по содержанию реферата. Содержание должно соответствовать названию работы, иметь ценность для публики – освещать достоверные и новые данные, объяснять важные вопросы, иметь доказательную базу. Изложение должно быть ясным, четким и последовательным. Необходимо знать и помнить о таком понятии, как плагиат. Плагиат – это кража контента, дословное копирование текста чужой работы.'}"
      ]
     },
     "execution_count": 11,
     "metadata": {},
     "output_type": "execute_result"
    }
   ],
   "source": [
    "extract_html_features(sample)"
   ]
  },
  {
   "cell_type": "code",
   "execution_count": 9,
   "metadata": {},
   "outputs": [
    {
     "data": {
      "application/vnd.jupyter.widget-view+json": {
       "model_id": "9404c854b64a4932863c904dc674c4ed",
       "version_major": 2,
       "version_minor": 0
      },
      "text/plain": [
       "Output()"
      ]
     },
     "metadata": {},
     "output_type": "display_data"
    },
    {
     "name": "stderr",
     "output_type": "stream",
     "text": [
      "/Users/n.teterin/projects/work/notebooks-oneshot/.venv/lib/python3.9/site-packages/bs4/builder/__init__.py:545: XMLParsedAsHTMLWarning: It looks like you're parsing an XML document using an HTML parser. If this really is an HTML document (maybe it's XHTML?), you can ignore or filter this warning. If it's XML, you should know that using an XML parser will be more reliable. To parse this document as XML, make sure you have the lxml package installed, and pass the keyword argument `features=\"xml\"` into the BeautifulSoup constructor.\n",
      "  warnings.warn(\n"
     ]
    },
    {
     "name": "stderr",
     "output_type": "stream",
     "text": [
      "/Users/n.teterin/projects/work/notebooks-oneshot/.venv/lib/python3.9/site-packages/bs4/builder/__init__.py:545: XMLParsedAsHTMLWarning: It looks like you're parsing an XML document using an HTML parser. If this really is an HTML document (maybe it's XHTML?), you can ignore or filter this warning. If it's XML, you should know that using an XML parser will be more reliable. To parse this document as XML, make sure you have the lxml package installed, and pass the keyword argument `features=\"xml\"` into the BeautifulSoup constructor.\n",
      "  warnings.warn(\n"
     ]
    },
    {
     "name": "stderr",
     "output_type": "stream",
     "text": [
      "/Users/n.teterin/projects/work/notebooks-oneshot/.venv/lib/python3.9/site-packages/bs4/builder/__init__.py:545: XMLParsedAsHTMLWarning: It looks like you're parsing an XML document using an HTML parser. If this really is an HTML document (maybe it's XHTML?), you can ignore or filter this warning. If it's XML, you should know that using an XML parser will be more reliable. To parse this document as XML, make sure you have the lxml package installed, and pass the keyword argument `features=\"xml\"` into the BeautifulSoup constructor.\n",
      "  warnings.warn(\n"
     ]
    },
    {
     "name": "stderr",
     "output_type": "stream",
     "text": [
      "/Users/n.teterin/projects/work/notebooks-oneshot/.venv/lib/python3.9/site-packages/bs4/builder/__init__.py:545: XMLParsedAsHTMLWarning: It looks like you're parsing an XML document using an HTML parser. If this really is an HTML document (maybe it's XHTML?), you can ignore or filter this warning. If it's XML, you should know that using an XML parser will be more reliable. To parse this document as XML, make sure you have the lxml package installed, and pass the keyword argument `features=\"xml\"` into the BeautifulSoup constructor.\n",
      "  warnings.warn(\n"
     ]
    },
    {
     "name": "stderr",
     "output_type": "stream",
     "text": [
      "/Users/n.teterin/projects/work/notebooks-oneshot/.venv/lib/python3.9/site-packages/bs4/builder/__init__.py:545: XMLParsedAsHTMLWarning: It looks like you're parsing an XML document using an HTML parser. If this really is an HTML document (maybe it's XHTML?), you can ignore or filter this warning. If it's XML, you should know that using an XML parser will be more reliable. To parse this document as XML, make sure you have the lxml package installed, and pass the keyword argument `features=\"xml\"` into the BeautifulSoup constructor.\n",
      "  warnings.warn(\n"
     ]
    },
    {
     "name": "stderr",
     "output_type": "stream",
     "text": [
      "/Users/n.teterin/projects/work/notebooks-oneshot/.venv/lib/python3.9/site-packages/bs4/builder/__init__.py:545: XMLParsedAsHTMLWarning: It looks like you're parsing an XML document using an HTML parser. If this really is an HTML document (maybe it's XHTML?), you can ignore or filter this warning. If it's XML, you should know that using an XML parser will be more reliable. To parse this document as XML, make sure you have the lxml package installed, and pass the keyword argument `features=\"xml\"` into the BeautifulSoup constructor.\n",
      "  warnings.warn(\n"
     ]
    },
    {
     "name": "stderr",
     "output_type": "stream",
     "text": [
      "/Users/n.teterin/projects/work/notebooks-oneshot/.venv/lib/python3.9/site-packages/bs4/builder/__init__.py:545: XMLParsedAsHTMLWarning: It looks like you're parsing an XML document using an HTML parser. If this really is an HTML document (maybe it's XHTML?), you can ignore or filter this warning. If it's XML, you should know that using an XML parser will be more reliable. To parse this document as XML, make sure you have the lxml package installed, and pass the keyword argument `features=\"xml\"` into the BeautifulSoup constructor.\n",
      "  warnings.warn(\n"
     ]
    },
    {
     "name": "stderr",
     "output_type": "stream",
     "text": [
      "/Users/n.teterin/projects/work/notebooks-oneshot/.venv/lib/python3.9/site-packages/bs4/builder/__init__.py:545: XMLParsedAsHTMLWarning: It looks like you're parsing an XML document using an HTML parser. If this really is an HTML document (maybe it's XHTML?), you can ignore or filter this warning. If it's XML, you should know that using an XML parser will be more reliable. To parse this document as XML, make sure you have the lxml package installed, and pass the keyword argument `features=\"xml\"` into the BeautifulSoup constructor.\n",
      "  warnings.warn(\n"
     ]
    },
    {
     "name": "stderr",
     "output_type": "stream",
     "text": [
      "/Users/n.teterin/projects/work/notebooks-oneshot/.venv/lib/python3.9/site-packages/bs4/builder/__init__.py:545: XMLParsedAsHTMLWarning: It looks like you're parsing an XML document using an HTML parser. If this really is an HTML document (maybe it's XHTML?), you can ignore or filter this warning. If it's XML, you should know that using an XML parser will be more reliable. To parse this document as XML, make sure you have the lxml package installed, and pass the keyword argument `features=\"xml\"` into the BeautifulSoup constructor.\n",
      "  warnings.warn(\n"
     ]
    },
    {
     "name": "stderr",
     "output_type": "stream",
     "text": [
      "/Users/n.teterin/projects/work/notebooks-oneshot/.venv/lib/python3.9/site-packages/bs4/builder/__init__.py:545: XMLParsedAsHTMLWarning: It looks like you're parsing an XML document using an HTML parser. If this really is an HTML document (maybe it's XHTML?), you can ignore or filter this warning. If it's XML, you should know that using an XML parser will be more reliable. To parse this document as XML, make sure you have the lxml package installed, and pass the keyword argument `features=\"xml\"` into the BeautifulSoup constructor.\n",
      "  warnings.warn(\n"
     ]
    },
    {
     "data": {
      "text/html": [
       "<pre style=\"white-space:pre;overflow-x:auto;line-height:normal;font-family:Menlo,'DejaVu Sans Mono',consolas,'Courier New',monospace\"></pre>\n"
      ],
      "text/plain": []
     },
     "metadata": {},
     "output_type": "display_data"
    },
    {
     "data": {
      "text/html": [
       "<pre style=\"white-space:pre;overflow-x:auto;line-height:normal;font-family:Menlo,'DejaVu Sans Mono',consolas,'Courier New',monospace\">\n",
       "</pre>\n"
      ],
      "text/plain": [
       "\n"
      ]
     },
     "metadata": {},
     "output_type": "display_data"
    }
   ],
   "source": [
    "# https://stackoverflow.com/questions/61860800/running-a-processpoolexecutor-in-ipython\n",
    "import multiprocessing as mp\n",
    "\n",
    "mp.set_start_method(\"fork\")\n",
    "\n",
    "from concurrent import futures\n",
    "from rich import progress\n",
    "\n",
    "\n",
    "with futures.ProcessPoolExecutor(max_workers=10) as executor:\n",
    "    html_features = [\n",
    "        f\n",
    "        for f in progress.track(\n",
    "            executor.map(extract_html_features, html_documents),\n",
    "            total=len(html_documents),\n",
    "        )\n",
    "    ]"
   ]
  },
  {
   "cell_type": "code",
   "execution_count": 11,
   "metadata": {},
   "outputs": [],
   "source": [
    "# at first, I forgor to add doc_id to html features, hence had to join\n",
    "# it with doc_id using url as a reference (thankfully, all URLs are unique)\n",
    "def extract_url(p: pathlib.Path):\n",
    "    with codecs.open(p, \"r\", \"utf-8\") as f:\n",
    "        url = f.readline().strip()\n",
    "\n",
    "    return dict(doc_id=p.stem, url=url)\n",
    "\n",
    "\n",
    "html_urls = [extract_url(p) for p in html_documents]"
   ]
  },
  {
   "cell_type": "code",
   "execution_count": 13,
   "metadata": {},
   "outputs": [
    {
     "data": {
      "text/html": [
       "<div>\n",
       "<style scoped>\n",
       "    .dataframe tbody tr th:only-of-type {\n",
       "        vertical-align: middle;\n",
       "    }\n",
       "\n",
       "    .dataframe tbody tr th {\n",
       "        vertical-align: top;\n",
       "    }\n",
       "\n",
       "    .dataframe thead th {\n",
       "        text-align: right;\n",
       "    }\n",
       "</style>\n",
       "<table border=\"1\" class=\"dataframe\">\n",
       "  <thead>\n",
       "    <tr style=\"text-align: right;\">\n",
       "      <th></th>\n",
       "      <th>doc_id</th>\n",
       "      <th>url</th>\n",
       "    </tr>\n",
       "  </thead>\n",
       "  <tbody>\n",
       "    <tr>\n",
       "      <th>0</th>\n",
       "      <td>1</td>\n",
       "      <td>zrenielib.ru/docs/index-5141.html</td>\n",
       "    </tr>\n",
       "    <tr>\n",
       "      <th>1</th>\n",
       "      <td>10</td>\n",
       "      <td>pomogudengami.ru/board/nuzhna_pomoshh/4-259-1</td>\n",
       "    </tr>\n",
       "    <tr>\n",
       "      <th>2</th>\n",
       "      <td>100</td>\n",
       "      <td>myfin.by/bank/currency/bobrujsk</td>\n",
       "    </tr>\n",
       "    <tr>\n",
       "      <th>3</th>\n",
       "      <td>1000</td>\n",
       "      <td>fb.ru/article/122410/kak-polzovatsya-kompasom-...</td>\n",
       "    </tr>\n",
       "    <tr>\n",
       "      <th>4</th>\n",
       "      <td>10000</td>\n",
       "      <td>youtube.com/watch?v=eu0WTLGoSus</td>\n",
       "    </tr>\n",
       "    <tr>\n",
       "      <th>...</th>\n",
       "      <td>...</td>\n",
       "      <td>...</td>\n",
       "    </tr>\n",
       "    <tr>\n",
       "      <th>28021</th>\n",
       "      <td>9995</td>\n",
       "      <td>lectmania.ru/1x1088b.html</td>\n",
       "    </tr>\n",
       "    <tr>\n",
       "      <th>28022</th>\n",
       "      <td>9996</td>\n",
       "      <td>walkspb.ru/articles/neobspb.html</td>\n",
       "    </tr>\n",
       "    <tr>\n",
       "      <th>28023</th>\n",
       "      <td>9997</td>\n",
       "      <td>forum.yurclub.ru/index.php?showtopic=107584</td>\n",
       "    </tr>\n",
       "    <tr>\n",
       "      <th>28024</th>\n",
       "      <td>9998</td>\n",
       "      <td>stranamam.ru/community/799251</td>\n",
       "    </tr>\n",
       "    <tr>\n",
       "      <th>28025</th>\n",
       "      <td>9999</td>\n",
       "      <td>acvu.ru/apnoe-ostanovka-vo-sne-prichinyi.html</td>\n",
       "    </tr>\n",
       "  </tbody>\n",
       "</table>\n",
       "<p>28026 rows × 2 columns</p>\n",
       "</div>"
      ],
      "text/plain": [
       "      doc_id                                                url\n",
       "0          1                  zrenielib.ru/docs/index-5141.html\n",
       "1         10      pomogudengami.ru/board/nuzhna_pomoshh/4-259-1\n",
       "2        100                    myfin.by/bank/currency/bobrujsk\n",
       "3       1000  fb.ru/article/122410/kak-polzovatsya-kompasom-...\n",
       "4      10000                    youtube.com/watch?v=eu0WTLGoSus\n",
       "...      ...                                                ...\n",
       "28021   9995                          lectmania.ru/1x1088b.html\n",
       "28022   9996                   walkspb.ru/articles/neobspb.html\n",
       "28023   9997        forum.yurclub.ru/index.php?showtopic=107584\n",
       "28024   9998                      stranamam.ru/community/799251\n",
       "28025   9999      acvu.ru/apnoe-ostanovka-vo-sne-prichinyi.html\n",
       "\n",
       "[28026 rows x 2 columns]"
      ]
     },
     "execution_count": 13,
     "metadata": {},
     "output_type": "execute_result"
    }
   ],
   "source": [
    "df_html_urls = pd.DataFrame(html_urls)\n",
    "df_html_urls"
   ]
  },
  {
   "cell_type": "code",
   "execution_count": 18,
   "metadata": {},
   "outputs": [],
   "source": [
    "# read titles to ensure I computed features correctly\n",
    "df_docs_titles = pd.read_csv(\"../tmp/docs_titles.tsv\", delimiter=\"\\t\")"
   ]
  },
  {
   "cell_type": "code",
   "execution_count": 78,
   "metadata": {},
   "outputs": [
    {
     "data": {
      "text/html": [
       "<div>\n",
       "<style scoped>\n",
       "    .dataframe tbody tr th:only-of-type {\n",
       "        vertical-align: middle;\n",
       "    }\n",
       "\n",
       "    .dataframe tbody tr th {\n",
       "        vertical-align: top;\n",
       "    }\n",
       "\n",
       "    .dataframe thead th {\n",
       "        text-align: right;\n",
       "    }\n",
       "</style>\n",
       "<table border=\"1\" class=\"dataframe\">\n",
       "  <thead>\n",
       "    <tr style=\"text-align: right;\">\n",
       "      <th></th>\n",
       "      <th>doc_id</th>\n",
       "      <th>title</th>\n",
       "    </tr>\n",
       "  </thead>\n",
       "  <tbody>\n",
       "    <tr>\n",
       "      <th>0</th>\n",
       "      <td>15731</td>\n",
       "      <td>ВАЗ 21213 | Замена подшипников ступицы | Нива</td>\n",
       "    </tr>\n",
       "    <tr>\n",
       "      <th>1</th>\n",
       "      <td>14829</td>\n",
       "      <td>Ваз 2107 оптом в Сочи. Сравнить цены, купить п...</td>\n",
       "    </tr>\n",
       "    <tr>\n",
       "      <th>2</th>\n",
       "      <td>15764</td>\n",
       "      <td>Купить ступица Лада калина2. Трансмиссия - пер...</td>\n",
       "    </tr>\n",
       "    <tr>\n",
       "      <th>3</th>\n",
       "      <td>17669</td>\n",
       "      <td>Классика 21010 - 21074</td>\n",
       "    </tr>\n",
       "    <tr>\n",
       "      <th>4</th>\n",
       "      <td>14852</td>\n",
       "      <td>Ступица Нива — замена подшипника своими руками</td>\n",
       "    </tr>\n",
       "    <tr>\n",
       "      <th>...</th>\n",
       "      <td>...</td>\n",
       "      <td>...</td>\n",
       "    </tr>\n",
       "    <tr>\n",
       "      <th>27945</th>\n",
       "      <td>16637</td>\n",
       "      <td>Ответы@Mail.Ru: полезно ли кушать творог по ут...</td>\n",
       "    </tr>\n",
       "    <tr>\n",
       "      <th>27946</th>\n",
       "      <td>16759</td>\n",
       "      <td>Творог. Полезные свойства и лечение творогом. ...</td>\n",
       "    </tr>\n",
       "    <tr>\n",
       "      <th>27947</th>\n",
       "      <td>15358</td>\n",
       "      <td>Творог - Полезные и опасные свойства творога</td>\n",
       "    </tr>\n",
       "    <tr>\n",
       "      <th>27948</th>\n",
       "      <td>17287</td>\n",
       "      <td>Ответы@Mail.Ru: Чем полезен творог?</td>\n",
       "    </tr>\n",
       "    <tr>\n",
       "      <th>27949</th>\n",
       "      <td>16026</td>\n",
       "      <td>Творог: польза и вред :: Как выбирать продукты...</td>\n",
       "    </tr>\n",
       "  </tbody>\n",
       "</table>\n",
       "<p>27950 rows × 2 columns</p>\n",
       "</div>"
      ],
      "text/plain": [
       "       doc_id                                              title\n",
       "0       15731      ВАЗ 21213 | Замена подшипников ступицы | Нива\n",
       "1       14829  Ваз 2107 оптом в Сочи. Сравнить цены, купить п...\n",
       "2       15764  Купить ступица Лада калина2. Трансмиссия - пер...\n",
       "3       17669                             Классика 21010 - 21074\n",
       "4       14852     Ступица Нива — замена подшипника своими руками\n",
       "...       ...                                                ...\n",
       "27945   16637  Ответы@Mail.Ru: полезно ли кушать творог по ут...\n",
       "27946   16759  Творог. Полезные свойства и лечение творогом. ...\n",
       "27947   15358       Творог - Полезные и опасные свойства творога\n",
       "27948   17287                Ответы@Mail.Ru: Чем полезен творог?\n",
       "27949   16026  Творог: польза и вред :: Как выбирать продукты...\n",
       "\n",
       "[27950 rows x 2 columns]"
      ]
     },
     "execution_count": 78,
     "metadata": {},
     "output_type": "execute_result"
    }
   ],
   "source": [
    "df_docs_titles"
   ]
  },
  {
   "cell_type": "code",
   "execution_count": 126,
   "metadata": {},
   "outputs": [
    {
     "data": {
      "text/html": [
       "<div>\n",
       "<style scoped>\n",
       "    .dataframe tbody tr th:only-of-type {\n",
       "        vertical-align: middle;\n",
       "    }\n",
       "\n",
       "    .dataframe tbody tr th {\n",
       "        vertical-align: top;\n",
       "    }\n",
       "\n",
       "    .dataframe thead th {\n",
       "        text-align: right;\n",
       "    }\n",
       "</style>\n",
       "<table border=\"1\" class=\"dataframe\">\n",
       "  <thead>\n",
       "    <tr style=\"text-align: right;\">\n",
       "      <th></th>\n",
       "      <th>doc_id</th>\n",
       "      <th>url</th>\n",
       "      <th>title</th>\n",
       "      <th>keywords</th>\n",
       "      <th>body</th>\n",
       "    </tr>\n",
       "  </thead>\n",
       "  <tbody>\n",
       "    <tr>\n",
       "      <th>0</th>\n",
       "      <td>1</td>\n",
       "      <td>zrenielib.ru/docs/index-5141.html</td>\n",
       "      <td>М. Б. Аншина Центр репродукции и генетики «Фер...</td>\n",
       "      <td>NaN</td>\n",
       "      <td>Симптомы эндокринных заболеваний можно раздели...</td>\n",
       "    </tr>\n",
       "    <tr>\n",
       "      <th>1</th>\n",
       "      <td>2</td>\n",
       "      <td>kak-perevesti-online.ru/perevody-qiwi-wallet.html</td>\n",
       "      <td>Переводы Киви кошелька</td>\n",
       "      <td>NaN</td>\n",
       "      <td>Активный выбор людей в пользу безналичного рас...</td>\n",
       "    </tr>\n",
       "    <tr>\n",
       "      <th>2</th>\n",
       "      <td>3</td>\n",
       "      <td>timecops.biz/forum/viewtopic.php?f=13&amp;t=319</td>\n",
       "      <td>ПРОЕКТ ПАТРУЛИ ВРЕМЕНИ - РЕАБИЛИТАЦИЯ ДУХОВНЫХ...</td>\n",
       "      <td>NaN</td>\n",
       "      <td>нологией, которую мы сможем применять. И единс...</td>\n",
       "    </tr>\n",
       "    <tr>\n",
       "      <th>3</th>\n",
       "      <td>4</td>\n",
       "      <td>proffi95.ru/blogs/prepodavanie-v-nachalnyh-kla...</td>\n",
       "      <td>→ Блог</td>\n",
       "      <td>NaN</td>\n",
       "      <td>Творческая, ищущая мысль направляет свои усили...</td>\n",
       "    </tr>\n",
       "    <tr>\n",
       "      <th>4</th>\n",
       "      <td>5</td>\n",
       "      <td>xn----jtbaaldsgaoflxr4fyc.xn--p1ai/%D0%BD%D0%B...</td>\n",
       "      <td>Как быстро понизить холестерин. Высокий холест...</td>\n",
       "      <td>NaN</td>\n",
       "      <td>У меня \"плохой\" холестерин 6,72. Я испугалась,...</td>\n",
       "    </tr>\n",
       "    <tr>\n",
       "      <th>...</th>\n",
       "      <td>...</td>\n",
       "      <td>...</td>\n",
       "      <td>...</td>\n",
       "      <td>...</td>\n",
       "      <td>...</td>\n",
       "    </tr>\n",
       "    <tr>\n",
       "      <th>27945</th>\n",
       "      <td>28022</td>\n",
       "      <td>jplant.ru/bolezni-i-vrediteli/listya-anturiuma...</td>\n",
       "      <td></td>\n",
       "      <td>NaN</td>\n",
       "      <td>Однако и листья антуриума не менее притягатель...</td>\n",
       "    </tr>\n",
       "    <tr>\n",
       "      <th>27946</th>\n",
       "      <td>28023</td>\n",
       "      <td>catalogcars.net/toyota/toyota-hilux-surf-3-0-t...</td>\n",
       "      <td></td>\n",
       "      <td>NaN</td>\n",
       "      <td>В сумму которая была на руках что-то как-то ни...</td>\n",
       "    </tr>\n",
       "    <tr>\n",
       "      <th>27947</th>\n",
       "      <td>28024</td>\n",
       "      <td>prostoprikol.com/video/cTltRfRTPnk</td>\n",
       "      <td>How to download power director 14 full version...</td>\n",
       "      <td>NaN</td>\n",
       "      <td>HERE YOU GO,  NOW YOU GET A WAY TO DOWNLOAD TH...</td>\n",
       "    </tr>\n",
       "    <tr>\n",
       "      <th>27948</th>\n",
       "      <td>28025</td>\n",
       "      <td>sector-book.ru/items/skachat_proigryvatel_avi_...</td>\n",
       "      <td>Скачать проигрыватель avi iphone</td>\n",
       "      <td>NaN</td>\n",
       "      <td>фантастика\\n смотреть фантастику\\n фантастика ...</td>\n",
       "    </tr>\n",
       "    <tr>\n",
       "      <th>27949</th>\n",
       "      <td>28026</td>\n",
       "      <td>yconsult.ru/rabota/kak-otrazit-gosposhlinu-v-b...</td>\n",
       "      <td>Проводки для оформления госпошлины в бухучете ...</td>\n",
       "      <td>NaN</td>\n",
       "      <td>Недавно в моей семье произошел случай, требующ...</td>\n",
       "    </tr>\n",
       "  </tbody>\n",
       "</table>\n",
       "<p>27950 rows × 5 columns</p>\n",
       "</div>"
      ],
      "text/plain": [
       "       doc_id                                                url  \\\n",
       "0           1                  zrenielib.ru/docs/index-5141.html   \n",
       "1           2  kak-perevesti-online.ru/perevody-qiwi-wallet.html   \n",
       "2           3        timecops.biz/forum/viewtopic.php?f=13&t=319   \n",
       "3           4  proffi95.ru/blogs/prepodavanie-v-nachalnyh-kla...   \n",
       "4           5  xn----jtbaaldsgaoflxr4fyc.xn--p1ai/%D0%BD%D0%B...   \n",
       "...       ...                                                ...   \n",
       "27945   28022  jplant.ru/bolezni-i-vrediteli/listya-anturiuma...   \n",
       "27946   28023  catalogcars.net/toyota/toyota-hilux-surf-3-0-t...   \n",
       "27947   28024                 prostoprikol.com/video/cTltRfRTPnk   \n",
       "27948   28025  sector-book.ru/items/skachat_proigryvatel_avi_...   \n",
       "27949   28026  yconsult.ru/rabota/kak-otrazit-gosposhlinu-v-b...   \n",
       "\n",
       "                                                   title keywords  \\\n",
       "0      М. Б. Аншина Центр репродукции и генетики «Фер...      NaN   \n",
       "1                                 Переводы Киви кошелька      NaN   \n",
       "2      ПРОЕКТ ПАТРУЛИ ВРЕМЕНИ - РЕАБИЛИТАЦИЯ ДУХОВНЫХ...      NaN   \n",
       "3                                                 → Блог      NaN   \n",
       "4      Как быстро понизить холестерин. Высокий холест...      NaN   \n",
       "...                                                  ...      ...   \n",
       "27945                                                         NaN   \n",
       "27946                                                         NaN   \n",
       "27947  How to download power director 14 full version...      NaN   \n",
       "27948                   Скачать проигрыватель avi iphone      NaN   \n",
       "27949  Проводки для оформления госпошлины в бухучете ...      NaN   \n",
       "\n",
       "                                                    body  \n",
       "0      Симптомы эндокринных заболеваний можно раздели...  \n",
       "1      Активный выбор людей в пользу безналичного рас...  \n",
       "2      нологией, которую мы сможем применять. И единс...  \n",
       "3      Творческая, ищущая мысль направляет свои усили...  \n",
       "4      У меня \"плохой\" холестерин 6,72. Я испугалась,...  \n",
       "...                                                  ...  \n",
       "27945  Однако и листья антуриума не менее притягатель...  \n",
       "27946  В сумму которая была на руках что-то как-то ни...  \n",
       "27947  HERE YOU GO,  NOW YOU GET A WAY TO DOWNLOAD TH...  \n",
       "27948  фантастика\\n смотреть фантастику\\n фантастика ...  \n",
       "27949  Недавно в моей семье произошел случай, требующ...  \n",
       "\n",
       "[27950 rows x 5 columns]"
      ]
     },
     "execution_count": 126,
     "metadata": {},
     "output_type": "execute_result"
    }
   ],
   "source": [
    "df_html_features = pd.DataFrame(html_features)\n",
    "df_merged_html_features = df_html_urls.merge(df_html_features, how=\"inner\", on=\"url\")\n",
    "\n",
    "# ensure we are OK so far\n",
    "assert len(df_merged_html_features) == len(df_html_features)\n",
    "assert not df_merged_html_features[\"url\"].isnull().any()\n",
    "\n",
    "df_merged_html_features[\"doc_id\"] = df_merged_html_features[\"doc_id\"].map(int)\n",
    "df_merged_html_features[\"title\"] = df_merged_html_features[\"title\"].map(\n",
    "    # account for NaN values\n",
    "    lambda x: x.strip() if isinstance(x, str) else x\n",
    ")\n",
    "df_merged_html_features[\"body\"] = df_merged_html_features[\"body\"].map(\n",
    "    # account for NaN values\n",
    "    lambda x: x.strip() if isinstance(x, str) else x\n",
    ")\n",
    "\n",
    "df_final_html_features = (\n",
    "    df_merged_html_features\n",
    "    # description was completely empty by mistake, but one can rerun\n",
    "    # the processing loop and obtain proper descriptions\n",
    "    .drop(columns=[\"description\"])\n",
    "    .merge(df_docs_titles[[\"doc_id\"]], how=\"inner\", on=\"doc_id\")\n",
    "    .sort_values(by=\"doc_id\")\n",
    "    .set_index(\"doc_id\")\n",
    "    .reset_index()\n",
    ")\n",
    "df_final_html_features"
   ]
  },
  {
   "cell_type": "code",
   "execution_count": 141,
   "metadata": {},
   "outputs": [],
   "source": [
    "# last sanity check\n",
    "assert set(df_final_html_features[\"doc_id\"]) == set(df_docs_titles[\"doc_id\"])\n",
    "\n",
    "# feather is more lightweight than csv and does not have encoding/quotation issues since it is a binary format\n",
    "df_final_html_features[[\"doc_id\", \"url\", \"title\", \"keywords\", \"body\"]].to_feather(\n",
    "    \"../tmp/docs_features.feather\"\n",
    ")"
   ]
  },
  {
   "cell_type": "code",
   "execution_count": 142,
   "metadata": {},
   "outputs": [
    {
     "name": "stdout",
     "output_type": "stream",
     "text": [
      "146M\t../tmp/docs_features.feather\n"
     ]
    }
   ],
   "source": [
    "!du -h ../tmp/docs_features.feather"
   ]
  },
  {
   "cell_type": "code",
   "execution_count": 143,
   "metadata": {},
   "outputs": [],
   "source": [
    "df_reconstructed = pd.read_feather(\"../tmp/docs_features.feather\")"
   ]
  },
  {
   "cell_type": "code",
   "execution_count": 144,
   "metadata": {},
   "outputs": [
    {
     "data": {
      "text/html": [
       "<div>\n",
       "<style scoped>\n",
       "    .dataframe tbody tr th:only-of-type {\n",
       "        vertical-align: middle;\n",
       "    }\n",
       "\n",
       "    .dataframe tbody tr th {\n",
       "        vertical-align: top;\n",
       "    }\n",
       "\n",
       "    .dataframe thead th {\n",
       "        text-align: right;\n",
       "    }\n",
       "</style>\n",
       "<table border=\"1\" class=\"dataframe\">\n",
       "  <thead>\n",
       "    <tr style=\"text-align: right;\">\n",
       "      <th></th>\n",
       "      <th>doc_id</th>\n",
       "      <th>url</th>\n",
       "      <th>title</th>\n",
       "      <th>keywords</th>\n",
       "      <th>body</th>\n",
       "    </tr>\n",
       "  </thead>\n",
       "  <tbody>\n",
       "    <tr>\n",
       "      <th>0</th>\n",
       "      <td>1</td>\n",
       "      <td>zrenielib.ru/docs/index-5141.html</td>\n",
       "      <td>М. Б. Аншина Центр репродукции и генетики «Фер...</td>\n",
       "      <td>None</td>\n",
       "      <td>Симптомы эндокринных заболеваний можно раздели...</td>\n",
       "    </tr>\n",
       "    <tr>\n",
       "      <th>1</th>\n",
       "      <td>2</td>\n",
       "      <td>kak-perevesti-online.ru/perevody-qiwi-wallet.html</td>\n",
       "      <td>Переводы Киви кошелька</td>\n",
       "      <td>None</td>\n",
       "      <td>Активный выбор людей в пользу безналичного рас...</td>\n",
       "    </tr>\n",
       "    <tr>\n",
       "      <th>2</th>\n",
       "      <td>3</td>\n",
       "      <td>timecops.biz/forum/viewtopic.php?f=13&amp;t=319</td>\n",
       "      <td>ПРОЕКТ ПАТРУЛИ ВРЕМЕНИ - РЕАБИЛИТАЦИЯ ДУХОВНЫХ...</td>\n",
       "      <td>None</td>\n",
       "      <td>нологией, которую мы сможем применять. И единс...</td>\n",
       "    </tr>\n",
       "    <tr>\n",
       "      <th>3</th>\n",
       "      <td>4</td>\n",
       "      <td>proffi95.ru/blogs/prepodavanie-v-nachalnyh-kla...</td>\n",
       "      <td>→ Блог</td>\n",
       "      <td>None</td>\n",
       "      <td>Творческая, ищущая мысль направляет свои усили...</td>\n",
       "    </tr>\n",
       "    <tr>\n",
       "      <th>4</th>\n",
       "      <td>5</td>\n",
       "      <td>xn----jtbaaldsgaoflxr4fyc.xn--p1ai/%D0%BD%D0%B...</td>\n",
       "      <td>Как быстро понизить холестерин. Высокий холест...</td>\n",
       "      <td>None</td>\n",
       "      <td>У меня \"плохой\" холестерин 6,72. Я испугалась,...</td>\n",
       "    </tr>\n",
       "    <tr>\n",
       "      <th>...</th>\n",
       "      <td>...</td>\n",
       "      <td>...</td>\n",
       "      <td>...</td>\n",
       "      <td>...</td>\n",
       "      <td>...</td>\n",
       "    </tr>\n",
       "    <tr>\n",
       "      <th>27945</th>\n",
       "      <td>28022</td>\n",
       "      <td>jplant.ru/bolezni-i-vrediteli/listya-anturiuma...</td>\n",
       "      <td></td>\n",
       "      <td>None</td>\n",
       "      <td>Однако и листья антуриума не менее притягатель...</td>\n",
       "    </tr>\n",
       "    <tr>\n",
       "      <th>27946</th>\n",
       "      <td>28023</td>\n",
       "      <td>catalogcars.net/toyota/toyota-hilux-surf-3-0-t...</td>\n",
       "      <td></td>\n",
       "      <td>None</td>\n",
       "      <td>В сумму которая была на руках что-то как-то ни...</td>\n",
       "    </tr>\n",
       "    <tr>\n",
       "      <th>27947</th>\n",
       "      <td>28024</td>\n",
       "      <td>prostoprikol.com/video/cTltRfRTPnk</td>\n",
       "      <td>How to download power director 14 full version...</td>\n",
       "      <td>None</td>\n",
       "      <td>HERE YOU GO,  NOW YOU GET A WAY TO DOWNLOAD TH...</td>\n",
       "    </tr>\n",
       "    <tr>\n",
       "      <th>27948</th>\n",
       "      <td>28025</td>\n",
       "      <td>sector-book.ru/items/skachat_proigryvatel_avi_...</td>\n",
       "      <td>Скачать проигрыватель avi iphone</td>\n",
       "      <td>None</td>\n",
       "      <td>фантастика\\n смотреть фантастику\\n фантастика ...</td>\n",
       "    </tr>\n",
       "    <tr>\n",
       "      <th>27949</th>\n",
       "      <td>28026</td>\n",
       "      <td>yconsult.ru/rabota/kak-otrazit-gosposhlinu-v-b...</td>\n",
       "      <td>Проводки для оформления госпошлины в бухучете ...</td>\n",
       "      <td>None</td>\n",
       "      <td>Недавно в моей семье произошел случай, требующ...</td>\n",
       "    </tr>\n",
       "  </tbody>\n",
       "</table>\n",
       "<p>27950 rows × 5 columns</p>\n",
       "</div>"
      ],
      "text/plain": [
       "       doc_id                                                url  \\\n",
       "0           1                  zrenielib.ru/docs/index-5141.html   \n",
       "1           2  kak-perevesti-online.ru/perevody-qiwi-wallet.html   \n",
       "2           3        timecops.biz/forum/viewtopic.php?f=13&t=319   \n",
       "3           4  proffi95.ru/blogs/prepodavanie-v-nachalnyh-kla...   \n",
       "4           5  xn----jtbaaldsgaoflxr4fyc.xn--p1ai/%D0%BD%D0%B...   \n",
       "...       ...                                                ...   \n",
       "27945   28022  jplant.ru/bolezni-i-vrediteli/listya-anturiuma...   \n",
       "27946   28023  catalogcars.net/toyota/toyota-hilux-surf-3-0-t...   \n",
       "27947   28024                 prostoprikol.com/video/cTltRfRTPnk   \n",
       "27948   28025  sector-book.ru/items/skachat_proigryvatel_avi_...   \n",
       "27949   28026  yconsult.ru/rabota/kak-otrazit-gosposhlinu-v-b...   \n",
       "\n",
       "                                                   title keywords  \\\n",
       "0      М. Б. Аншина Центр репродукции и генетики «Фер...     None   \n",
       "1                                 Переводы Киви кошелька     None   \n",
       "2      ПРОЕКТ ПАТРУЛИ ВРЕМЕНИ - РЕАБИЛИТАЦИЯ ДУХОВНЫХ...     None   \n",
       "3                                                 → Блог     None   \n",
       "4      Как быстро понизить холестерин. Высокий холест...     None   \n",
       "...                                                  ...      ...   \n",
       "27945                                                        None   \n",
       "27946                                                        None   \n",
       "27947  How to download power director 14 full version...     None   \n",
       "27948                   Скачать проигрыватель avi iphone     None   \n",
       "27949  Проводки для оформления госпошлины в бухучете ...     None   \n",
       "\n",
       "                                                    body  \n",
       "0      Симптомы эндокринных заболеваний можно раздели...  \n",
       "1      Активный выбор людей в пользу безналичного рас...  \n",
       "2      нологией, которую мы сможем применять. И единс...  \n",
       "3      Творческая, ищущая мысль направляет свои усили...  \n",
       "4      У меня \"плохой\" холестерин 6,72. Я испугалась,...  \n",
       "...                                                  ...  \n",
       "27945  Однако и листья антуриума не менее притягатель...  \n",
       "27946  В сумму которая была на руках что-то как-то ни...  \n",
       "27947  HERE YOU GO,  NOW YOU GET A WAY TO DOWNLOAD TH...  \n",
       "27948  фантастика\\n смотреть фантастику\\n фантастика ...  \n",
       "27949  Недавно в моей семье произошел случай, требующ...  \n",
       "\n",
       "[27950 rows x 5 columns]"
      ]
     },
     "execution_count": 144,
     "metadata": {},
     "output_type": "execute_result"
    }
   ],
   "source": [
    "df_reconstructed"
   ]
  },
  {
   "cell_type": "code",
   "execution_count": null,
   "metadata": {},
   "outputs": [],
   "source": []
  }
 ],
 "metadata": {
  "kernelspec": {
   "display_name": "Python 3",
   "language": "python",
   "name": "python3"
  },
  "language_info": {
   "codemirror_mode": {
    "name": "ipython",
    "version": 3
   },
   "file_extension": ".py",
   "mimetype": "text/x-python",
   "name": "python",
   "nbconvert_exporter": "python",
   "pygments_lexer": "ipython3",
   "version": "3.9.6"
  }
 },
 "nbformat": 4,
 "nbformat_minor": 2
}
